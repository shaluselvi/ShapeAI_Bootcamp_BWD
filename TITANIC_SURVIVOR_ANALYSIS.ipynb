{
  "nbformat": 4,
  "nbformat_minor": 0,
  "metadata": {
    "colab": {
      "name": "TITANIC SURVIVOR ANALYSIS.ipynb",
      "private_outputs": true,
      "provenance": [],
      "collapsed_sections": []
    },
    "kernelspec": {
      "name": "python3",
      "display_name": "Python 3"
    },
    "language_info": {
      "name": "python"
    }
  },
  "cells": [
    {
      "cell_type": "markdown",
      "metadata": {
        "id": "_pCjPOHnVost"
      },
      "source": [
        "# TITANIC SURVIVOR ANALYSIS "
      ]
    },
    {
      "cell_type": "code",
      "metadata": {
        "id": "EYiibMfI4rD4"
      },
      "source": [
        ""
      ],
      "execution_count": null,
      "outputs": []
    },
    {
      "cell_type": "code",
      "metadata": {
        "id": "lTUlkc3TVpmn"
      },
      "source": [
        "import pandas as pd\n",
        "import numpy as np"
      ],
      "execution_count": null,
      "outputs": []
    },
    {
      "cell_type": "markdown",
      "metadata": {
        "id": "ztkUJ2tHVqpJ"
      },
      "source": [
        "**READING DATA USING PANDAS**"
      ]
    },
    {
      "cell_type": "markdown",
      "metadata": {
        "id": "O50lnkmcVqtg"
      },
      "source": [
        "We use pandas read_csv function to read the csv file in python and dataFrame method to convert file into the data frame"
      ]
    },
    {
      "cell_type": "code",
      "metadata": {
        "id": "5a8G7FIKV47q"
      },
      "source": [
        "df = pd.DataFrame(pd.read_csv('/content/train (1).csv'))\n",
        "df.head()"
      ],
      "execution_count": null,
      "outputs": []
    },
    {
      "cell_type": "code",
      "metadata": {
        "id": "KRP1VkhGW9Fd"
      },
      "source": [
        "df.shape"
      ],
      "execution_count": null,
      "outputs": []
    },
    {
      "cell_type": "markdown",
      "metadata": {
        "id": "OfG1rBxXXCHx"
      },
      "source": [
        "**Description of the attributes of the datast**"
      ]
    },
    {
      "cell_type": "markdown",
      "metadata": {
        "id": "SV2vlu8xXH-D"
      },
      "source": [
        "Pclass: Passenger Class(1 = 1st; 2 = 2nd; 3 = 3rd)\n",
        "\n",
        "survival:Survival(0 = No; 1 = Yes)\n",
        "\n",
        "name: Name\n",
        "\n",
        "sex: Sex\n",
        "\n",
        "age: Age\n",
        "\n",
        "sibsp: Number of siblings/Spouses Aboard\n",
        "\n",
        "parch: Number of parents/Children Aboard\n",
        "\n",
        "ticket: Ticket Number\n",
        "\n",
        "fare: Passenger Fare(British pound)\n",
        "\n",
        "cabin: Cabin\n",
        "\n",
        "embarked: Port of Embarkation(C = Cherbourg; Q = Queenstown; S = Southamton)"
      ]
    },
    {
      "cell_type": "markdown",
      "metadata": {
        "id": "7WD6wWumXM-y"
      },
      "source": [
        "# ***HANDELING NULL VALUES***\n",
        "The dataset may contains many rows and columns for which some values are missing,we can't leave those missing values as it is.\n",
        "\n",
        "In such cases we have two option:\n",
        "\n",
        "\n",
        "\n",
        "1.   Either drop the entire row or column\n",
        "2.   Fill the missing values with some appropriate value let's say mean\n",
        " of all the values for that column may do the job."
      ]
    },
    {
      "cell_type": "code",
      "metadata": {
        "id": "SjVbXS4SXJcO"
      },
      "source": [
        "df.isnull().sum()"
      ],
      "execution_count": null,
      "outputs": []
    },
    {
      "cell_type": "markdown",
      "metadata": {
        "id": "edIpHB2LXTJL"
      },
      "source": [
        "Seperating out the columns which have more thn 35% of the values missing in the dataset "
      ]
    },
    {
      "cell_type": "code",
      "metadata": {
        "id": "Y8CoEzu3XUGv"
      },
      "source": [
        "# df.isnull().sum() returns a pandas series with column name as the label index\n",
        "# and total count of null values in the column as it's value\n",
        "# And we are storing only those columns which have more than 35% of the data missing.\n",
        " \n",
        "drop_col = df.isnull().sum()[df.isnull().sum()>(35/100 * df.shape[0])]\n",
        "drop_col"
      ],
      "execution_count": null,
      "outputs": []
    },
    {
      "cell_type": "code",
      "metadata": {
        "id": "hWLbnFW44xZd"
      },
      "source": [
        ""
      ],
      "execution_count": null,
      "outputs": []
    },
    {
      "cell_type": "code",
      "metadata": {
        "id": "q0B8YT80XYlo"
      },
      "source": [
        "drop_col.index"
      ],
      "execution_count": null,
      "outputs": []
    },
    {
      "cell_type": "code",
      "metadata": {
        "id": "xYEJbnO5XbeA"
      },
      "source": [
        "df.drop(drop_col.index, axis=1, inplace=True)\n",
        "df.isnull().sum()"
      ],
      "execution_count": null,
      "outputs": []
    },
    {
      "cell_type": "code",
      "metadata": {
        "id": "zCUfwZd5Xkek"
      },
      "source": [
        "df.fillna(df.mean(), inplace = True)\n",
        "df.isnull().sum()"
      ],
      "execution_count": null,
      "outputs": []
    },
    {
      "cell_type": "markdown",
      "metadata": {
        "id": "LbkAwq72Xokq"
      },
      "source": [
        "Because **Embarked** contains string values,we see the details of that column seperately from others as strings does not have mean and all."
      ]
    },
    {
      "cell_type": "code",
      "metadata": {
        "id": "EjEzuSJ8Xpe6"
      },
      "source": [
        "df['Embarked'].describe()"
      ],
      "execution_count": null,
      "outputs": []
    },
    {
      "cell_type": "markdown",
      "metadata": {
        "id": "I52uuG99XuAq"
      },
      "source": [
        "For Embarked attribute,we fill the null values with the most frequent value in the column."
      ]
    },
    {
      "cell_type": "code",
      "metadata": {
        "id": "7hXOK9tQXw-v"
      },
      "source": [
        "df['Embarked'].fillna('s',inplace=True)"
      ],
      "execution_count": null,
      "outputs": []
    },
    {
      "cell_type": "code",
      "metadata": {
        "id": "DkpEAbDRYSbq"
      },
      "source": [
        "df.isnull().sum()    #NOW ALL THE NULL VALUES HAVE BEEN FILLED"
      ],
      "execution_count": null,
      "outputs": []
    },
    {
      "cell_type": "code",
      "metadata": {
        "id": "5rtZtvJDYWSQ"
      },
      "source": [
        "df.corr()"
      ],
      "execution_count": null,
      "outputs": []
    },
    {
      "cell_type": "markdown",
      "metadata": {
        "id": "EZ8r1HCgYdew"
      },
      "source": [
        "sibsp: Number of siblings/Spouses Aboard\n",
        "\n",
        "parch: Number of parents/Children Aboard\n",
        "\n",
        "So we can make a new column family_size by combining these two column"
      ]
    },
    {
      "cell_type": "code",
      "metadata": {
        "id": "i7NqpzCIYg5v"
      },
      "source": [
        "df['FamilySize'] = df['SibSp'] + df['Parch']\n",
        "df.drop(['SibSp','Parch'], axis=1, inplace=True)\n",
        "df.corr()"
      ],
      "execution_count": null,
      "outputs": []
    },
    {
      "cell_type": "markdown",
      "metadata": {
        "id": "38OfxoitYmKn"
      },
      "source": [
        "**FamilySize in the ship does not have much correlance with survival rate**"
      ]
    },
    {
      "cell_type": "markdown",
      "metadata": {
        "id": "0fMbD6FfYqOt"
      },
      "source": [
        "Let's check if we weather the person was alonw or not can affect the survival rate."
      ]
    },
    {
      "cell_type": "code",
      "metadata": {
        "id": "X6FUIOWYYspG"
      },
      "source": [
        "df['Alone'] = [0 if df['FamilySize'][i]>0 else 1 for i in df.index]\n",
        "df.head()"
      ],
      "execution_count": null,
      "outputs": []
    },
    {
      "cell_type": "code",
      "metadata": {
        "id": "qMc2_8uGYvwK"
      },
      "source": [
        "df.groupby(['Alone'])['Survived'].mean()"
      ],
      "execution_count": null,
      "outputs": []
    },
    {
      "cell_type": "markdown",
      "metadata": {
        "id": "oicvkNkTY0Yl"
      },
      "source": [
        "If the person is alone he/she has less chance of surviving."
      ]
    },
    {
      "cell_type": "markdown",
      "metadata": {
        "id": "uEcpVQhEY3v6"
      },
      "source": [
        "***The reason might be  the person who is  travelling with his family might be belonging to rich class and might be prioritized over other.***"
      ]
    },
    {
      "cell_type": "code",
      "metadata": {
        "id": "gWfzMgf0Y6Hy"
      },
      "source": [
        "df[['Alone','Fare']].corr()"
      ],
      "execution_count": null,
      "outputs": []
    },
    {
      "cell_type": "markdown",
      "metadata": {
        "id": "CwCT6b2wY921"
      },
      "source": [
        "So we can see if the person was not alone, the chance the ticket price is higher is high"
      ]
    },
    {
      "cell_type": "code",
      "metadata": {
        "id": "U2Vqsy5SZAfL"
      },
      "source": [
        "df['Sex'] = [0 if df['Sex'][i]=='male' else 1 for i in df.index]  # 1 for female, 0 for male\n",
        "df.groupby(['Sex'])['Survived'].mean()"
      ],
      "execution_count": null,
      "outputs": []
    },
    {
      "cell_type": "markdown",
      "metadata": {
        "id": "vxnm1xHmZGwj"
      },
      "source": [
        "It shows,female passengers have more chance of surviving than male ones.\n",
        "\n",
        "It shows,women were prioritized over men."
      ]
    },
    {
      "cell_type": "code",
      "metadata": {
        "id": "J3vgqNCqZJQg"
      },
      "source": [
        "df.groupby(['Embarked'])['Survived'].mean()"
      ],
      "execution_count": null,
      "outputs": []
    },
    {
      "cell_type": "code",
      "metadata": {
        "id": "T6finWfUZMfo"
      },
      "source": [
        "df.describe()"
      ],
      "execution_count": null,
      "outputs": []
    },
    {
      "cell_type": "code",
      "metadata": {
        "id": "AJkznEGaZPbZ"
      },
      "source": [
        "df.info()"
      ],
      "execution_count": null,
      "outputs": []
    }
  ]
}